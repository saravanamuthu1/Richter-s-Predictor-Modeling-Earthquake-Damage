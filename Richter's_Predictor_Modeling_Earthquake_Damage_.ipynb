{
  "nbformat": 4,
  "nbformat_minor": 0,
  "metadata": {
    "colab": {
      "provenance": []
    },
    "kernelspec": {
      "name": "python3",
      "display_name": "Python 3"
    },
    "language_info": {
      "name": "python"
    }
  },
  "cells": [
    {
      "cell_type": "code",
      "execution_count": 1,
      "metadata": {
        "id": "xW6hPd8oJSgq"
      },
      "outputs": [],
      "source": [
        "import pandas as pd\n",
        "import numpy as np"
      ]
    },
    {
      "cell_type": "code",
      "source": [
        "df=pd.read_csv(\"train_values.csv\")"
      ],
      "metadata": {
        "id": "uzVvdclfJaQh"
      },
      "execution_count": 2,
      "outputs": []
    },
    {
      "cell_type": "code",
      "source": [
        "df_labels=pd.read_csv(\"train_labels.csv\")"
      ],
      "metadata": {
        "id": "3z6EmhzkUUyC"
      },
      "execution_count": 3,
      "outputs": []
    },
    {
      "cell_type": "code",
      "source": [
        "train_labels=df_labels['damage_grade']"
      ],
      "metadata": {
        "id": "rVQuqciCUeNJ"
      },
      "execution_count": 4,
      "outputs": []
    },
    {
      "cell_type": "code",
      "source": [
        "df.head()"
      ],
      "metadata": {
        "colab": {
          "base_uri": "https://localhost:8080/",
          "height": 299
        },
        "id": "pBbK51ONJf01",
        "outputId": "0e3123ae-4908-4aa0-b879-0de126c11d39"
      },
      "execution_count": 5,
      "outputs": [
        {
          "output_type": "execute_result",
          "data": {
            "text/plain": [
              "   building_id  geo_level_1_id  geo_level_2_id  geo_level_3_id  \\\n",
              "0       802906               6             487           12198   \n",
              "1        28830               8             900            2812   \n",
              "2        94947              21             363            8973   \n",
              "3       590882              22             418           10694   \n",
              "4       201944              11             131            1488   \n",
              "\n",
              "   count_floors_pre_eq  age  area_percentage  height_percentage  \\\n",
              "0                    2   30                6                  5   \n",
              "1                    2   10                8                  7   \n",
              "2                    2   10                5                  5   \n",
              "3                    2   10                6                  5   \n",
              "4                    3   30                8                  9   \n",
              "\n",
              "  land_surface_condition foundation_type  ... has_secondary_use_agriculture  \\\n",
              "0                      t               r  ...                             0   \n",
              "1                      o               r  ...                             0   \n",
              "2                      t               r  ...                             0   \n",
              "3                      t               r  ...                             0   \n",
              "4                      t               r  ...                             0   \n",
              "\n",
              "  has_secondary_use_hotel has_secondary_use_rental  \\\n",
              "0                       0                        0   \n",
              "1                       0                        0   \n",
              "2                       0                        0   \n",
              "3                       0                        0   \n",
              "4                       0                        0   \n",
              "\n",
              "  has_secondary_use_institution has_secondary_use_school  \\\n",
              "0                             0                        0   \n",
              "1                             0                        0   \n",
              "2                             0                        0   \n",
              "3                             0                        0   \n",
              "4                             0                        0   \n",
              "\n",
              "   has_secondary_use_industry  has_secondary_use_health_post  \\\n",
              "0                           0                              0   \n",
              "1                           0                              0   \n",
              "2                           0                              0   \n",
              "3                           0                              0   \n",
              "4                           0                              0   \n",
              "\n",
              "   has_secondary_use_gov_office  has_secondary_use_use_police  \\\n",
              "0                             0                             0   \n",
              "1                             0                             0   \n",
              "2                             0                             0   \n",
              "3                             0                             0   \n",
              "4                             0                             0   \n",
              "\n",
              "   has_secondary_use_other  \n",
              "0                        0  \n",
              "1                        0  \n",
              "2                        0  \n",
              "3                        0  \n",
              "4                        0  \n",
              "\n",
              "[5 rows x 39 columns]"
            ],
            "text/html": [
              "\n",
              "  <div id=\"df-e4036bd1-3690-4c74-a860-748ef400d519\">\n",
              "    <div class=\"colab-df-container\">\n",
              "      <div>\n",
              "<style scoped>\n",
              "    .dataframe tbody tr th:only-of-type {\n",
              "        vertical-align: middle;\n",
              "    }\n",
              "\n",
              "    .dataframe tbody tr th {\n",
              "        vertical-align: top;\n",
              "    }\n",
              "\n",
              "    .dataframe thead th {\n",
              "        text-align: right;\n",
              "    }\n",
              "</style>\n",
              "<table border=\"1\" class=\"dataframe\">\n",
              "  <thead>\n",
              "    <tr style=\"text-align: right;\">\n",
              "      <th></th>\n",
              "      <th>building_id</th>\n",
              "      <th>geo_level_1_id</th>\n",
              "      <th>geo_level_2_id</th>\n",
              "      <th>geo_level_3_id</th>\n",
              "      <th>count_floors_pre_eq</th>\n",
              "      <th>age</th>\n",
              "      <th>area_percentage</th>\n",
              "      <th>height_percentage</th>\n",
              "      <th>land_surface_condition</th>\n",
              "      <th>foundation_type</th>\n",
              "      <th>...</th>\n",
              "      <th>has_secondary_use_agriculture</th>\n",
              "      <th>has_secondary_use_hotel</th>\n",
              "      <th>has_secondary_use_rental</th>\n",
              "      <th>has_secondary_use_institution</th>\n",
              "      <th>has_secondary_use_school</th>\n",
              "      <th>has_secondary_use_industry</th>\n",
              "      <th>has_secondary_use_health_post</th>\n",
              "      <th>has_secondary_use_gov_office</th>\n",
              "      <th>has_secondary_use_use_police</th>\n",
              "      <th>has_secondary_use_other</th>\n",
              "    </tr>\n",
              "  </thead>\n",
              "  <tbody>\n",
              "    <tr>\n",
              "      <th>0</th>\n",
              "      <td>802906</td>\n",
              "      <td>6</td>\n",
              "      <td>487</td>\n",
              "      <td>12198</td>\n",
              "      <td>2</td>\n",
              "      <td>30</td>\n",
              "      <td>6</td>\n",
              "      <td>5</td>\n",
              "      <td>t</td>\n",
              "      <td>r</td>\n",
              "      <td>...</td>\n",
              "      <td>0</td>\n",
              "      <td>0</td>\n",
              "      <td>0</td>\n",
              "      <td>0</td>\n",
              "      <td>0</td>\n",
              "      <td>0</td>\n",
              "      <td>0</td>\n",
              "      <td>0</td>\n",
              "      <td>0</td>\n",
              "      <td>0</td>\n",
              "    </tr>\n",
              "    <tr>\n",
              "      <th>1</th>\n",
              "      <td>28830</td>\n",
              "      <td>8</td>\n",
              "      <td>900</td>\n",
              "      <td>2812</td>\n",
              "      <td>2</td>\n",
              "      <td>10</td>\n",
              "      <td>8</td>\n",
              "      <td>7</td>\n",
              "      <td>o</td>\n",
              "      <td>r</td>\n",
              "      <td>...</td>\n",
              "      <td>0</td>\n",
              "      <td>0</td>\n",
              "      <td>0</td>\n",
              "      <td>0</td>\n",
              "      <td>0</td>\n",
              "      <td>0</td>\n",
              "      <td>0</td>\n",
              "      <td>0</td>\n",
              "      <td>0</td>\n",
              "      <td>0</td>\n",
              "    </tr>\n",
              "    <tr>\n",
              "      <th>2</th>\n",
              "      <td>94947</td>\n",
              "      <td>21</td>\n",
              "      <td>363</td>\n",
              "      <td>8973</td>\n",
              "      <td>2</td>\n",
              "      <td>10</td>\n",
              "      <td>5</td>\n",
              "      <td>5</td>\n",
              "      <td>t</td>\n",
              "      <td>r</td>\n",
              "      <td>...</td>\n",
              "      <td>0</td>\n",
              "      <td>0</td>\n",
              "      <td>0</td>\n",
              "      <td>0</td>\n",
              "      <td>0</td>\n",
              "      <td>0</td>\n",
              "      <td>0</td>\n",
              "      <td>0</td>\n",
              "      <td>0</td>\n",
              "      <td>0</td>\n",
              "    </tr>\n",
              "    <tr>\n",
              "      <th>3</th>\n",
              "      <td>590882</td>\n",
              "      <td>22</td>\n",
              "      <td>418</td>\n",
              "      <td>10694</td>\n",
              "      <td>2</td>\n",
              "      <td>10</td>\n",
              "      <td>6</td>\n",
              "      <td>5</td>\n",
              "      <td>t</td>\n",
              "      <td>r</td>\n",
              "      <td>...</td>\n",
              "      <td>0</td>\n",
              "      <td>0</td>\n",
              "      <td>0</td>\n",
              "      <td>0</td>\n",
              "      <td>0</td>\n",
              "      <td>0</td>\n",
              "      <td>0</td>\n",
              "      <td>0</td>\n",
              "      <td>0</td>\n",
              "      <td>0</td>\n",
              "    </tr>\n",
              "    <tr>\n",
              "      <th>4</th>\n",
              "      <td>201944</td>\n",
              "      <td>11</td>\n",
              "      <td>131</td>\n",
              "      <td>1488</td>\n",
              "      <td>3</td>\n",
              "      <td>30</td>\n",
              "      <td>8</td>\n",
              "      <td>9</td>\n",
              "      <td>t</td>\n",
              "      <td>r</td>\n",
              "      <td>...</td>\n",
              "      <td>0</td>\n",
              "      <td>0</td>\n",
              "      <td>0</td>\n",
              "      <td>0</td>\n",
              "      <td>0</td>\n",
              "      <td>0</td>\n",
              "      <td>0</td>\n",
              "      <td>0</td>\n",
              "      <td>0</td>\n",
              "      <td>0</td>\n",
              "    </tr>\n",
              "  </tbody>\n",
              "</table>\n",
              "<p>5 rows × 39 columns</p>\n",
              "</div>\n",
              "      <button class=\"colab-df-convert\" onclick=\"convertToInteractive('df-e4036bd1-3690-4c74-a860-748ef400d519')\"\n",
              "              title=\"Convert this dataframe to an interactive table.\"\n",
              "              style=\"display:none;\">\n",
              "        \n",
              "  <svg xmlns=\"http://www.w3.org/2000/svg\" height=\"24px\"viewBox=\"0 0 24 24\"\n",
              "       width=\"24px\">\n",
              "    <path d=\"M0 0h24v24H0V0z\" fill=\"none\"/>\n",
              "    <path d=\"M18.56 5.44l.94 2.06.94-2.06 2.06-.94-2.06-.94-.94-2.06-.94 2.06-2.06.94zm-11 1L8.5 8.5l.94-2.06 2.06-.94-2.06-.94L8.5 2.5l-.94 2.06-2.06.94zm10 10l.94 2.06.94-2.06 2.06-.94-2.06-.94-.94-2.06-.94 2.06-2.06.94z\"/><path d=\"M17.41 7.96l-1.37-1.37c-.4-.4-.92-.59-1.43-.59-.52 0-1.04.2-1.43.59L10.3 9.45l-7.72 7.72c-.78.78-.78 2.05 0 2.83L4 21.41c.39.39.9.59 1.41.59.51 0 1.02-.2 1.41-.59l7.78-7.78 2.81-2.81c.8-.78.8-2.07 0-2.86zM5.41 20L4 18.59l7.72-7.72 1.47 1.35L5.41 20z\"/>\n",
              "  </svg>\n",
              "      </button>\n",
              "      \n",
              "  <style>\n",
              "    .colab-df-container {\n",
              "      display:flex;\n",
              "      flex-wrap:wrap;\n",
              "      gap: 12px;\n",
              "    }\n",
              "\n",
              "    .colab-df-convert {\n",
              "      background-color: #E8F0FE;\n",
              "      border: none;\n",
              "      border-radius: 50%;\n",
              "      cursor: pointer;\n",
              "      display: none;\n",
              "      fill: #1967D2;\n",
              "      height: 32px;\n",
              "      padding: 0 0 0 0;\n",
              "      width: 32px;\n",
              "    }\n",
              "\n",
              "    .colab-df-convert:hover {\n",
              "      background-color: #E2EBFA;\n",
              "      box-shadow: 0px 1px 2px rgba(60, 64, 67, 0.3), 0px 1px 3px 1px rgba(60, 64, 67, 0.15);\n",
              "      fill: #174EA6;\n",
              "    }\n",
              "\n",
              "    [theme=dark] .colab-df-convert {\n",
              "      background-color: #3B4455;\n",
              "      fill: #D2E3FC;\n",
              "    }\n",
              "\n",
              "    [theme=dark] .colab-df-convert:hover {\n",
              "      background-color: #434B5C;\n",
              "      box-shadow: 0px 1px 3px 1px rgba(0, 0, 0, 0.15);\n",
              "      filter: drop-shadow(0px 1px 2px rgba(0, 0, 0, 0.3));\n",
              "      fill: #FFFFFF;\n",
              "    }\n",
              "  </style>\n",
              "\n",
              "      <script>\n",
              "        const buttonEl =\n",
              "          document.querySelector('#df-e4036bd1-3690-4c74-a860-748ef400d519 button.colab-df-convert');\n",
              "        buttonEl.style.display =\n",
              "          google.colab.kernel.accessAllowed ? 'block' : 'none';\n",
              "\n",
              "        async function convertToInteractive(key) {\n",
              "          const element = document.querySelector('#df-e4036bd1-3690-4c74-a860-748ef400d519');\n",
              "          const dataTable =\n",
              "            await google.colab.kernel.invokeFunction('convertToInteractive',\n",
              "                                                     [key], {});\n",
              "          if (!dataTable) return;\n",
              "\n",
              "          const docLinkHtml = 'Like what you see? Visit the ' +\n",
              "            '<a target=\"_blank\" href=https://colab.research.google.com/notebooks/data_table.ipynb>data table notebook</a>'\n",
              "            + ' to learn more about interactive tables.';\n",
              "          element.innerHTML = '';\n",
              "          dataTable['output_type'] = 'display_data';\n",
              "          await google.colab.output.renderOutput(dataTable, element);\n",
              "          const docLink = document.createElement('div');\n",
              "          docLink.innerHTML = docLinkHtml;\n",
              "          element.appendChild(docLink);\n",
              "        }\n",
              "      </script>\n",
              "    </div>\n",
              "  </div>\n",
              "  "
            ]
          },
          "metadata": {},
          "execution_count": 5
        }
      ]
    },
    {
      "cell_type": "code",
      "source": [
        "df.info()"
      ],
      "metadata": {
        "colab": {
          "base_uri": "https://localhost:8080/"
        },
        "id": "-yQoWLFfJhC1",
        "outputId": "f52f6f5d-84d3-4ebe-ffa2-4fa5dee0bfd5"
      },
      "execution_count": 6,
      "outputs": [
        {
          "output_type": "stream",
          "name": "stdout",
          "text": [
            "<class 'pandas.core.frame.DataFrame'>\n",
            "RangeIndex: 260601 entries, 0 to 260600\n",
            "Data columns (total 39 columns):\n",
            " #   Column                                  Non-Null Count   Dtype \n",
            "---  ------                                  --------------   ----- \n",
            " 0   building_id                             260601 non-null  int64 \n",
            " 1   geo_level_1_id                          260601 non-null  int64 \n",
            " 2   geo_level_2_id                          260601 non-null  int64 \n",
            " 3   geo_level_3_id                          260601 non-null  int64 \n",
            " 4   count_floors_pre_eq                     260601 non-null  int64 \n",
            " 5   age                                     260601 non-null  int64 \n",
            " 6   area_percentage                         260601 non-null  int64 \n",
            " 7   height_percentage                       260601 non-null  int64 \n",
            " 8   land_surface_condition                  260601 non-null  object\n",
            " 9   foundation_type                         260601 non-null  object\n",
            " 10  roof_type                               260601 non-null  object\n",
            " 11  ground_floor_type                       260601 non-null  object\n",
            " 12  other_floor_type                        260601 non-null  object\n",
            " 13  position                                260601 non-null  object\n",
            " 14  plan_configuration                      260601 non-null  object\n",
            " 15  has_superstructure_adobe_mud            260601 non-null  int64 \n",
            " 16  has_superstructure_mud_mortar_stone     260601 non-null  int64 \n",
            " 17  has_superstructure_stone_flag           260601 non-null  int64 \n",
            " 18  has_superstructure_cement_mortar_stone  260601 non-null  int64 \n",
            " 19  has_superstructure_mud_mortar_brick     260601 non-null  int64 \n",
            " 20  has_superstructure_cement_mortar_brick  260601 non-null  int64 \n",
            " 21  has_superstructure_timber               260601 non-null  int64 \n",
            " 22  has_superstructure_bamboo               260601 non-null  int64 \n",
            " 23  has_superstructure_rc_non_engineered    260601 non-null  int64 \n",
            " 24  has_superstructure_rc_engineered        260601 non-null  int64 \n",
            " 25  has_superstructure_other                260601 non-null  int64 \n",
            " 26  legal_ownership_status                  260601 non-null  object\n",
            " 27  count_families                          260601 non-null  int64 \n",
            " 28  has_secondary_use                       260601 non-null  int64 \n",
            " 29  has_secondary_use_agriculture           260601 non-null  int64 \n",
            " 30  has_secondary_use_hotel                 260601 non-null  int64 \n",
            " 31  has_secondary_use_rental                260601 non-null  int64 \n",
            " 32  has_secondary_use_institution           260601 non-null  int64 \n",
            " 33  has_secondary_use_school                260601 non-null  int64 \n",
            " 34  has_secondary_use_industry              260601 non-null  int64 \n",
            " 35  has_secondary_use_health_post           260601 non-null  int64 \n",
            " 36  has_secondary_use_gov_office            260601 non-null  int64 \n",
            " 37  has_secondary_use_use_police            260601 non-null  int64 \n",
            " 38  has_secondary_use_other                 260601 non-null  int64 \n",
            "dtypes: int64(31), object(8)\n",
            "memory usage: 77.5+ MB\n"
          ]
        }
      ]
    },
    {
      "cell_type": "code",
      "source": [
        "print(df[\"land_surface_condition\"].unique())"
      ],
      "metadata": {
        "colab": {
          "base_uri": "https://localhost:8080/"
        },
        "id": "BVNXY6S0JlXG",
        "outputId": "a87a53ae-0088-477f-ddd2-cc2f41f8e415"
      },
      "execution_count": 7,
      "outputs": [
        {
          "output_type": "stream",
          "name": "stdout",
          "text": [
            "['t' 'o' 'n']\n"
          ]
        }
      ]
    },
    {
      "cell_type": "code",
      "source": [
        "from sklearn.preprocessing import LabelEncoder"
      ],
      "metadata": {
        "id": "Fm9yWxvpRiiK"
      },
      "execution_count": 8,
      "outputs": []
    },
    {
      "cell_type": "code",
      "source": [
        "labelencoder = LabelEncoder()\n",
        "\n",
        "df['foundation_type'] = labelencoder.fit_transform(df['foundation_type'])\n",
        "df['foundation_type']"
      ],
      "metadata": {
        "colab": {
          "base_uri": "https://localhost:8080/"
        },
        "id": "z5OFN7cvRm6r",
        "outputId": "17e33a0a-0ad0-40f5-a9a3-0b94d31376f3"
      },
      "execution_count": 9,
      "outputs": [
        {
          "output_type": "execute_result",
          "data": {
            "text/plain": [
              "0         2\n",
              "1         2\n",
              "2         2\n",
              "3         2\n",
              "4         2\n",
              "         ..\n",
              "260596    2\n",
              "260597    2\n",
              "260598    2\n",
              "260599    2\n",
              "260600    2\n",
              "Name: foundation_type, Length: 260601, dtype: int64"
            ]
          },
          "metadata": {},
          "execution_count": 9
        }
      ]
    },
    {
      "cell_type": "code",
      "source": [
        "def change_label(values):\n",
        "  changed_dataframe= labelencoder.fit_transform(values)\n",
        "  return changed_dataframe"
      ],
      "metadata": {
        "id": "zhyOn6mnSI9I"
      },
      "execution_count": 10,
      "outputs": []
    },
    {
      "cell_type": "code",
      "source": [
        "df['roof_type']=change_label(df['roof_type'])"
      ],
      "metadata": {
        "id": "XcVGWOOOSdOK"
      },
      "execution_count": 11,
      "outputs": []
    },
    {
      "cell_type": "code",
      "source": [
        "df['land_surface_condition'].replace(to_replace=['t', 'o', 'n'], value=[1, 2, 3], inplace=True)"
      ],
      "metadata": {
        "id": "OlpEcOViOyPz"
      },
      "execution_count": 12,
      "outputs": []
    },
    {
      "cell_type": "code",
      "source": [
        "df['ground_floor_type']=change_label(df['ground_floor_type'])"
      ],
      "metadata": {
        "id": "jmi4S29vR3o6"
      },
      "execution_count": 13,
      "outputs": []
    },
    {
      "cell_type": "code",
      "source": [
        "df['other_floor_type']=change_label(df['other_floor_type'])"
      ],
      "metadata": {
        "id": "8Cb_wxElREgf"
      },
      "execution_count": 14,
      "outputs": []
    },
    {
      "cell_type": "code",
      "source": [
        "df['position']=change_label(df['position'])"
      ],
      "metadata": {
        "id": "1F2ar2vsS6xy"
      },
      "execution_count": 15,
      "outputs": []
    },
    {
      "cell_type": "code",
      "source": [
        "df['plan_configuration']=change_label(df['plan_configuration'])"
      ],
      "metadata": {
        "id": "FZaVH8fITE_u"
      },
      "execution_count": 16,
      "outputs": []
    },
    {
      "cell_type": "code",
      "source": [
        "df['legal_ownership_status']=change_label(df['legal_ownership_status'])"
      ],
      "metadata": {
        "id": "k78Uz9hTTmxg"
      },
      "execution_count": 17,
      "outputs": []
    },
    {
      "cell_type": "code",
      "source": [
        "df.info()"
      ],
      "metadata": {
        "colab": {
          "base_uri": "https://localhost:8080/"
        },
        "id": "mJM306zHTTAC",
        "outputId": "03157173-07d4-40e3-ef30-c10d9991ba7a"
      },
      "execution_count": 18,
      "outputs": [
        {
          "output_type": "stream",
          "name": "stdout",
          "text": [
            "<class 'pandas.core.frame.DataFrame'>\n",
            "RangeIndex: 260601 entries, 0 to 260600\n",
            "Data columns (total 39 columns):\n",
            " #   Column                                  Non-Null Count   Dtype\n",
            "---  ------                                  --------------   -----\n",
            " 0   building_id                             260601 non-null  int64\n",
            " 1   geo_level_1_id                          260601 non-null  int64\n",
            " 2   geo_level_2_id                          260601 non-null  int64\n",
            " 3   geo_level_3_id                          260601 non-null  int64\n",
            " 4   count_floors_pre_eq                     260601 non-null  int64\n",
            " 5   age                                     260601 non-null  int64\n",
            " 6   area_percentage                         260601 non-null  int64\n",
            " 7   height_percentage                       260601 non-null  int64\n",
            " 8   land_surface_condition                  260601 non-null  int64\n",
            " 9   foundation_type                         260601 non-null  int64\n",
            " 10  roof_type                               260601 non-null  int64\n",
            " 11  ground_floor_type                       260601 non-null  int64\n",
            " 12  other_floor_type                        260601 non-null  int64\n",
            " 13  position                                260601 non-null  int64\n",
            " 14  plan_configuration                      260601 non-null  int64\n",
            " 15  has_superstructure_adobe_mud            260601 non-null  int64\n",
            " 16  has_superstructure_mud_mortar_stone     260601 non-null  int64\n",
            " 17  has_superstructure_stone_flag           260601 non-null  int64\n",
            " 18  has_superstructure_cement_mortar_stone  260601 non-null  int64\n",
            " 19  has_superstructure_mud_mortar_brick     260601 non-null  int64\n",
            " 20  has_superstructure_cement_mortar_brick  260601 non-null  int64\n",
            " 21  has_superstructure_timber               260601 non-null  int64\n",
            " 22  has_superstructure_bamboo               260601 non-null  int64\n",
            " 23  has_superstructure_rc_non_engineered    260601 non-null  int64\n",
            " 24  has_superstructure_rc_engineered        260601 non-null  int64\n",
            " 25  has_superstructure_other                260601 non-null  int64\n",
            " 26  legal_ownership_status                  260601 non-null  int64\n",
            " 27  count_families                          260601 non-null  int64\n",
            " 28  has_secondary_use                       260601 non-null  int64\n",
            " 29  has_secondary_use_agriculture           260601 non-null  int64\n",
            " 30  has_secondary_use_hotel                 260601 non-null  int64\n",
            " 31  has_secondary_use_rental                260601 non-null  int64\n",
            " 32  has_secondary_use_institution           260601 non-null  int64\n",
            " 33  has_secondary_use_school                260601 non-null  int64\n",
            " 34  has_secondary_use_industry              260601 non-null  int64\n",
            " 35  has_secondary_use_health_post           260601 non-null  int64\n",
            " 36  has_secondary_use_gov_office            260601 non-null  int64\n",
            " 37  has_secondary_use_use_police            260601 non-null  int64\n",
            " 38  has_secondary_use_other                 260601 non-null  int64\n",
            "dtypes: int64(39)\n",
            "memory usage: 77.5 MB\n"
          ]
        }
      ]
    },
    {
      "cell_type": "code",
      "source": [
        "from sklearn.preprocessing import StandardScaler\n",
        "from sklearn.ensemble import RandomForestClassifier\n",
        "from sklearn.pipeline import make_pipeline"
      ],
      "metadata": {
        "id": "xQrcigi8TWqw"
      },
      "execution_count": 19,
      "outputs": []
    },
    {
      "cell_type": "code",
      "source": [
        "train_features=df.drop(['building_id'], axis=1)"
      ],
      "metadata": {
        "id": "SFDgeIb8VEoR"
      },
      "execution_count": 20,
      "outputs": []
    },
    {
      "cell_type": "code",
      "source": [
        "pipe = make_pipeline(StandardScaler(), \n",
        "                     RandomForestClassifier(random_state=2018))"
      ],
      "metadata": {
        "id": "llb9hJfnUBQz"
      },
      "execution_count": 21,
      "outputs": []
    },
    {
      "cell_type": "code",
      "source": [
        "pipe.fit(train_features,train_labels)"
      ],
      "metadata": {
        "colab": {
          "base_uri": "https://localhost:8080/"
        },
        "id": "V2UcqkzoUJ14",
        "outputId": "26d67933-02ac-4184-e55f-fe20f7f3803b"
      },
      "execution_count": 22,
      "outputs": [
        {
          "output_type": "execute_result",
          "data": {
            "text/plain": [
              "Pipeline(steps=[('standardscaler', StandardScaler()),\n",
              "                ('randomforestclassifier',\n",
              "                 RandomForestClassifier(random_state=2018))])"
            ]
          },
          "metadata": {},
          "execution_count": 22
        }
      ]
    },
    {
      "cell_type": "code",
      "source": [
        "prediction=pipe.predict(train_features)"
      ],
      "metadata": {
        "id": "7IhSW97eVaCN"
      },
      "execution_count": 23,
      "outputs": []
    },
    {
      "cell_type": "code",
      "source": [
        "from sklearn.metrics import accuracy_score"
      ],
      "metadata": {
        "id": "dmE-35MK_eJ9"
      },
      "execution_count": 24,
      "outputs": []
    },
    {
      "cell_type": "code",
      "source": [
        "accuracy_score(train_labels,prediction)"
      ],
      "metadata": {
        "colab": {
          "base_uri": "https://localhost:8080/"
        },
        "id": "kaPonVaV_xZb",
        "outputId": "dde9eb66-4026-42a9-e911-57822417e455"
      },
      "execution_count": 25,
      "outputs": [
        {
          "output_type": "execute_result",
          "data": {
            "text/plain": [
              "0.98427481091784"
            ]
          },
          "metadata": {},
          "execution_count": 25
        }
      ]
    },
    {
      "cell_type": "code",
      "source": [
        "df_test=pd.read_csv(\"test_values.csv\")"
      ],
      "metadata": {
        "id": "o1hFJyvM_3bt"
      },
      "execution_count": 28,
      "outputs": []
    },
    {
      "cell_type": "code",
      "source": [
        "df_test.info()"
      ],
      "metadata": {
        "colab": {
          "base_uri": "https://localhost:8080/"
        },
        "id": "vjQqeDGpATXn",
        "outputId": "8f253405-db9b-4d03-8d16-a09a3bba1680"
      },
      "execution_count": 29,
      "outputs": [
        {
          "output_type": "stream",
          "name": "stdout",
          "text": [
            "<class 'pandas.core.frame.DataFrame'>\n",
            "RangeIndex: 86868 entries, 0 to 86867\n",
            "Data columns (total 39 columns):\n",
            " #   Column                                  Non-Null Count  Dtype \n",
            "---  ------                                  --------------  ----- \n",
            " 0   building_id                             86868 non-null  int64 \n",
            " 1   geo_level_1_id                          86868 non-null  int64 \n",
            " 2   geo_level_2_id                          86868 non-null  int64 \n",
            " 3   geo_level_3_id                          86868 non-null  int64 \n",
            " 4   count_floors_pre_eq                     86868 non-null  int64 \n",
            " 5   age                                     86868 non-null  int64 \n",
            " 6   area_percentage                         86868 non-null  int64 \n",
            " 7   height_percentage                       86868 non-null  int64 \n",
            " 8   land_surface_condition                  86868 non-null  object\n",
            " 9   foundation_type                         86868 non-null  object\n",
            " 10  roof_type                               86868 non-null  object\n",
            " 11  ground_floor_type                       86868 non-null  object\n",
            " 12  other_floor_type                        86868 non-null  object\n",
            " 13  position                                86868 non-null  object\n",
            " 14  plan_configuration                      86868 non-null  object\n",
            " 15  has_superstructure_adobe_mud            86868 non-null  int64 \n",
            " 16  has_superstructure_mud_mortar_stone     86868 non-null  int64 \n",
            " 17  has_superstructure_stone_flag           86868 non-null  int64 \n",
            " 18  has_superstructure_cement_mortar_stone  86868 non-null  int64 \n",
            " 19  has_superstructure_mud_mortar_brick     86868 non-null  int64 \n",
            " 20  has_superstructure_cement_mortar_brick  86868 non-null  int64 \n",
            " 21  has_superstructure_timber               86868 non-null  int64 \n",
            " 22  has_superstructure_bamboo               86868 non-null  int64 \n",
            " 23  has_superstructure_rc_non_engineered    86868 non-null  int64 \n",
            " 24  has_superstructure_rc_engineered        86868 non-null  int64 \n",
            " 25  has_superstructure_other                86868 non-null  int64 \n",
            " 26  legal_ownership_status                  86868 non-null  object\n",
            " 27  count_families                          86868 non-null  int64 \n",
            " 28  has_secondary_use                       86868 non-null  int64 \n",
            " 29  has_secondary_use_agriculture           86868 non-null  int64 \n",
            " 30  has_secondary_use_hotel                 86868 non-null  int64 \n",
            " 31  has_secondary_use_rental                86868 non-null  int64 \n",
            " 32  has_secondary_use_institution           86868 non-null  int64 \n",
            " 33  has_secondary_use_school                86868 non-null  int64 \n",
            " 34  has_secondary_use_industry              86868 non-null  int64 \n",
            " 35  has_secondary_use_health_post           86868 non-null  int64 \n",
            " 36  has_secondary_use_gov_office            86868 non-null  int64 \n",
            " 37  has_secondary_use_use_police            86868 non-null  int64 \n",
            " 38  has_secondary_use_other                 86868 non-null  int64 \n",
            "dtypes: int64(31), object(8)\n",
            "memory usage: 25.8+ MB\n"
          ]
        }
      ]
    },
    {
      "cell_type": "code",
      "source": [
        "df_test['roof_type']=change_label(df_test['roof_type'])"
      ],
      "metadata": {
        "id": "ieTCVLUvAh6w"
      },
      "execution_count": 30,
      "outputs": []
    },
    {
      "cell_type": "code",
      "source": [
        "df_test['foundation_type'] = labelencoder.fit_transform(df_test['foundation_type'])"
      ],
      "metadata": {
        "id": "Mm59nfxqCiLg"
      },
      "execution_count": 43,
      "outputs": []
    },
    {
      "cell_type": "code",
      "source": [
        "df_test['land_surface_condition'].replace(to_replace=['t', 'o', 'n'], value=[1, 2, 3], inplace=True)"
      ],
      "metadata": {
        "id": "DJMCr7V9BOjq"
      },
      "execution_count": 31,
      "outputs": []
    },
    {
      "cell_type": "code",
      "source": [
        "df_test['ground_floor_type']=change_label(df_test['ground_floor_type'])"
      ],
      "metadata": {
        "id": "nSadWXzpBWOX"
      },
      "execution_count": 32,
      "outputs": []
    },
    {
      "cell_type": "code",
      "source": [
        "df_test['other_floor_type']=change_label(df_test['other_floor_type'])"
      ],
      "metadata": {
        "id": "9kN6aq-gBcNR"
      },
      "execution_count": 33,
      "outputs": []
    },
    {
      "cell_type": "code",
      "source": [
        "df_test['position']=change_label(df_test['position'])"
      ],
      "metadata": {
        "id": "VnN7fhQqBhzT"
      },
      "execution_count": 34,
      "outputs": []
    },
    {
      "cell_type": "code",
      "source": [
        "df_test['plan_configuration']=change_label(df_test['plan_configuration'])"
      ],
      "metadata": {
        "id": "mKN7Ypg8CYd9"
      },
      "execution_count": 42,
      "outputs": []
    },
    {
      "cell_type": "code",
      "source": [
        "df_test['legal_ownership_status']=change_label(df_test['legal_ownership_status'])"
      ],
      "metadata": {
        "id": "wyvuu-g2Bw_U"
      },
      "execution_count": 36,
      "outputs": []
    },
    {
      "cell_type": "code",
      "source": [
        "test_features=df_test.drop(['building_id'], axis=1)"
      ],
      "metadata": {
        "id": "INsI2CRJB11D"
      },
      "execution_count": 44,
      "outputs": []
    },
    {
      "cell_type": "code",
      "source": [
        "prediction_test=pipe.predict(test_features)"
      ],
      "metadata": {
        "id": "SDjOH5mmB_Hl"
      },
      "execution_count": 45,
      "outputs": []
    },
    {
      "cell_type": "code",
      "source": [
        "submission = pd.DataFrame({'building_id':df_test['building_id'], 'damage_grade':prediction_test})\n",
        "submission.to_csv(\"submission.csv\", index=False)"
      ],
      "metadata": {
        "id": "8e_IqJX2CD3a"
      },
      "execution_count": 47,
      "outputs": []
    },
    {
      "cell_type": "code",
      "source": [],
      "metadata": {
        "id": "eb07jiNnDOKX"
      },
      "execution_count": null,
      "outputs": []
    }
  ]
}